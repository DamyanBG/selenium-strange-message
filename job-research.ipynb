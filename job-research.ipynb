{
 "cells": [
  {
   "cell_type": "code",
   "execution_count": 8,
   "metadata": {},
   "outputs": [
    {
     "name": "stdout",
     "output_type": "stream",
     "text": [
      "5\n",
      "<module 'selenium' from 'c:\\\\Users\\\\Ivelina\\\\Desktop\\\\Coding\\\\jobs-bg-scraper\\\\.venv\\\\lib\\\\site-packages\\\\selenium\\\\__init__.py'>\n"
     ]
    }
   ],
   "source": [
    "ia = 5\n",
    "\n",
    "print(ia)\n",
    "\n",
    "import selenium\n",
    "print(selenium)"
   ]
  },
  {
   "cell_type": "code",
   "execution_count": 9,
   "metadata": {},
   "outputs": [
    {
     "ename": "NameError",
     "evalue": "name 'filter_list_element' is not defined",
     "output_type": "error",
     "traceback": [
      "\u001b[1;31m---------------------------------------------------------------------------\u001b[0m",
      "\u001b[1;31mNameError\u001b[0m                                 Traceback (most recent call last)",
      "Cell \u001b[1;32mIn[9], line 64\u001b[0m\n\u001b[0;32m     62\u001b[0m \u001b[38;5;28;01mfor\u001b[39;00m ul \u001b[38;5;129;01min\u001b[39;00m ul_list:\n\u001b[0;32m     63\u001b[0m     li_list \u001b[38;5;241m=\u001b[39m ul\u001b[38;5;241m.\u001b[39mfind_elements(by\u001b[38;5;241m=\u001b[39m\u001b[38;5;124m\"\u001b[39m\u001b[38;5;124mxpath\u001b[39m\u001b[38;5;124m\"\u001b[39m, value\u001b[38;5;241m=\u001b[39m\u001b[38;5;124m'\u001b[39m\u001b[38;5;124m./li\u001b[39m\u001b[38;5;124m'\u001b[39m)\n\u001b[1;32m---> 64\u001b[0m     filtered_li_list \u001b[38;5;241m=\u001b[39m \u001b[38;5;28mlist\u001b[39m(\u001b[38;5;28mfilter\u001b[39m(\u001b[43mfilter_list_element\u001b[49m, li_list))\n\u001b[0;32m     65\u001b[0m     \u001b[38;5;28;01mfor\u001b[39;00m li \u001b[38;5;129;01min\u001b[39;00m filtered_li_list:\n\u001b[0;32m     66\u001b[0m         job_title \u001b[38;5;241m=\u001b[39m li\u001b[38;5;241m.\u001b[39mfind_element(by\u001b[38;5;241m=\u001b[39m\u001b[38;5;124m\"\u001b[39m\u001b[38;5;124mclass name\u001b[39m\u001b[38;5;124m\"\u001b[39m, value\u001b[38;5;241m=\u001b[39m\u001b[38;5;124m\"\u001b[39m\u001b[38;5;124mcard-title\u001b[39m\u001b[38;5;124m\"\u001b[39m)\u001b[38;5;241m.\u001b[39mfind_element(by\u001b[38;5;241m=\u001b[39m\u001b[38;5;124m\"\u001b[39m\u001b[38;5;124mxpath\u001b[39m\u001b[38;5;124m\"\u001b[39m, value\u001b[38;5;241m=\u001b[39m\u001b[38;5;124m\"\u001b[39m\u001b[38;5;124m./span[2]\u001b[39m\u001b[38;5;124m\"\u001b[39m)\u001b[38;5;241m.\u001b[39mtext\n",
      "\u001b[1;31mNameError\u001b[0m: name 'filter_list_element' is not defined"
     ]
    }
   ],
   "source": [
    "from selenium import webdriver\n",
    "import time\n",
    "from selenium.webdriver.common.keys import Keys\n",
    "from selenium.webdriver.common.action_chains import ActionChains\n",
    "from selenium.webdriver.remote.webelement import WebElement\n",
    "\n",
    "options = webdriver.ChromeOptions()\n",
    "options.add_argument(\"disable-infobars\")\n",
    "options.add_argument(\"start-maximized\")\n",
    "# options.add_argument('--headless')\n",
    "options.add_argument('--disable-gpu')\n",
    "options.add_argument(\"--enable-javascript\")\n",
    "options.add_argument(\"disable-dev-shm-usage\")\n",
    "options.add_argument(\"no-sandbox\")\n",
    "options.add_experimental_option(\"excludeSwitches\", [\"enable-automation\"])\n",
    "options.add_argument(\"disable-blink-features=AutomationControlled\")\n",
    "\n",
    "driver = webdriver.Chrome(options=options)\n",
    "\n",
    "\n",
    "driver.get(\"http://127.0.0.1:5500/downloaded_html/JOBS.BG%20-%20IT%20%D0%9E%D0%B1%D1%8F%D0%B2%D0%B8%20%D0%B7%D0%B0%20%D0%A0%D0%B0%D0%B1%D0%BE%D1%82%D0%B0%20%D1%81%20%D0%BA%D1%80%D0%B8%D1%82%D0%B5%D1%80%D0%B8%D0%B8_%20_JavaScript_;%20%D0%9F%D0%BE%D1%81%D0%BB%D0%B5%D0%B4%D0%BD%D0%B8%D1%82%D0%B5%207%20%D0%B4%D0%BD%D0%B8.html\")\n",
    "\n",
    "\n",
    "time.sleep(2)\n",
    "\n",
    "actions = ActionChains(driver)\n",
    "# Scroll down slowly\n",
    "for _ in range(1000):  # Adjust the range to control the scroll distance\n",
    "    try:\n",
    "        close_button = driver.find_element(\n",
    "            by=\"xpath\",\n",
    "            value='//*[@id=\"fav-popup-dialog\"]/div[1]/div[2]/div[2]/button[1]/div',\n",
    "        )\n",
    "    except:\n",
    "        actions.send_keys(Keys.ARROW_DOWN).perform()\n",
    "        time.sleep(0.001)  # Adjust the sleep time to control the scroll speed\n",
    "    else:\n",
    "        close_button.click()\n",
    "        break\n",
    "\n",
    "\n",
    "# driver.execute_script(\"window.scrollTo(0, document.body.scrollHeight);\")\n",
    "time.sleep(2)\n",
    "\n",
    "time.sleep(5)\n",
    "for _ in range(1000):  # Adjust the range to control the scroll distance\n",
    "    actions.send_keys(Keys.ARROW_DOWN).perform()\n",
    "    time.sleep(0.001)  # Adjust the sleep time to control the scroll speed\n",
    "# driver.execute_script(\"window.scrollTo(0, document.body.scrollHeight);\")\n",
    "# time.sleep(2)\n",
    "\n",
    "jobs_list_container = driver.find_element(\n",
    "    by=\"xpath\",\n",
    "    value='//*[@id=\"listContainer\"]',\n",
    ")\n",
    "\n",
    "\n",
    "# print(jobs_list_container.find_element)\n",
    "ul_list = jobs_list_container.find_elements(by=\"xpath\", value='./ul')\n",
    "jobs_list_container.get_attribute\n",
    "job_titles = []\n",
    "for ul in ul_list:\n",
    "    li_list = ul.find_elements(by=\"xpath\", value='./li')\n",
    "    filtered_li_list = list(filter(filter_list_element, li_list))\n",
    "    for li in filtered_li_list:\n",
    "        job_title = li.find_element(by=\"class name\", value=\"card-title\").find_element(by=\"xpath\", value=\"./span[2]\").text\n",
    "        published_date = li.find_element(by=\"class name\", value=\"card-date\").text\n",
    "        company_name = li.find_element(by=\"class name\", value=\"secondary-text\").text\n",
    "        skills_els = li.find_element(by=\"class name\", value=\"card-tags\").find_elements(by=\"xpath\", value=\"./div/div\")\n",
    "        job_link = li.find_element(by=\"class name\", value=\"black-link-b\").get_attribute(\"href\")\n",
    "        card_info_el = li.find_element(by=\"class name\", value=\"card-info\")\n",
    "        skills = []\n",
    "        for skill_el in skills_els:\n",
    "            try:\n",
    "                skill_name = skill_el.find_element(by=\"xpath\", value=\"./img\").get_attribute(\"alt\")\n",
    "            except:\n",
    "                pass\n",
    "            else:\n",
    "                skills.append(skill_name)\n",
    "                continue\n",
    "            try:\n",
    "                skill_name = skill_el.find_element(by=\"xpath\", value=\"./div\").text\n",
    "            except:\n",
    "                pass\n",
    "            else:\n",
    "                skills.append(skill_name)\n",
    "                \n",
    "        print(job_title)\n",
    "        print(published_date)\n",
    "        print(job_link)\n",
    "        print(company_name)\n",
    "        print(skills)\n",
    "        print(card_info_el.text)\n",
    "        \n",
    "\n",
    "\n",
    "print(ul_list)\n",
    "\n",
    "\n",
    "driver.quit()\n"
   ]
  }
 ],
 "metadata": {
  "kernelspec": {
   "display_name": ".venv",
   "language": "python",
   "name": "python3"
  },
  "language_info": {
   "codemirror_mode": {
    "name": "ipython",
    "version": 3
   },
   "file_extension": ".py",
   "mimetype": "text/x-python",
   "name": "python",
   "nbconvert_exporter": "python",
   "pygments_lexer": "ipython3",
   "version": "3.9.13"
  }
 },
 "nbformat": 4,
 "nbformat_minor": 2
}
